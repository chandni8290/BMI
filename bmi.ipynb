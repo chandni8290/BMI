{
 "cells": [
  {
   "cell_type": "code",
   "execution_count": 3,
   "id": "27941c3f",
   "metadata": {},
   "outputs": [
    {
     "name": "stdout",
     "output_type": "stream",
     "text": [
      "\n",
      "Your BMI is:0.24\n",
      "Category: Underweight\n"
     ]
    }
   ],
   "source": [
    "class BMICalculator:\n",
    "    def __init__(self, weight, height):\n",
    "        self.weight = weight\n",
    "        self.height = height\n",
    "    def calculate_bmi(self):\n",
    "        bmi = self.weight / (self.height ** 2)\n",
    "        return  bmi\n",
    "    def get_category(self):\n",
    "        bmi = self.calculate_bmi()\n",
    "        if bmi < 18.5:\n",
    "            return \"Underweight\"\n",
    "        elif 18.5 <= bmi < 24.9:\n",
    "            return \"Normal weight\"\n",
    "        elif 25 <= bmi < 29.9:\n",
    "            return \"Overweight\"\n",
    "        else:\n",
    "            return \"Obese\"\n",
    "weight = float(input(\"Enter weight (in kg):\"))\n",
    "height = float(input(\"Enter height (in meter):\"))\n",
    "person = BMICalculator(weight,height)\n",
    "bmi = person.calculate_bmi()\n",
    "category = person.get_category()\n",
    "print(f\"\\nYour BMI is:{bmi:.2f}\")\n",
    "print(f\"Category: {category}\")"
   ]
  }
 ],
 "metadata": {
  "kernelspec": {
   "display_name": "Python 3",
   "language": "python",
   "name": "python3"
  },
  "language_info": {
   "codemirror_mode": {
    "name": "ipython",
    "version": 3
   },
   "file_extension": ".py",
   "mimetype": "text/x-python",
   "name": "python",
   "nbconvert_exporter": "python",
   "pygments_lexer": "ipython3",
   "version": "3.11.9"
  }
 },
 "nbformat": 4,
 "nbformat_minor": 5
}
